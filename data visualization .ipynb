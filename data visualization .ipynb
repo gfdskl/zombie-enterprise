{
 "cells": [
  {
   "cell_type": "markdown",
   "metadata": {},
   "source": [
    "# 数据可视化"
   ]
  },
  {
   "cell_type": "markdown",
   "metadata": {},
   "source": [
    "## 导入必要的包"
   ]
  },
  {
   "cell_type": "code",
   "execution_count": 1,
   "metadata": {},
   "outputs": [],
   "source": [
    "#-*- coding : utf-8 -*-\n",
    "import pandas as pd\n",
    "import numpy as np\n",
    "import matplotlib.pyplot as plt\n",
    "import os\n",
    "import sklearn\n",
    "import seaborn as sns"
   ]
  },
  {
   "cell_type": "markdown",
   "metadata": {},
   "source": [
    "## 导入数据文件"
   ]
  },
  {
   "cell_type": "code",
   "execution_count": 2,
   "metadata": {},
   "outputs": [],
   "source": [
    "rootDir = r'E:\\大学生活\\比赛\\服务外包\\A09-科创-企业画像数据接口'\n",
    "files = os.listdir(rootDir)\n",
    "train_files = [i for i in files if 'train' in i]\n",
    "test_files = [i for i in files if 'verify' in i]"
   ]
  },
  {
   "cell_type": "code",
   "execution_count": 3,
   "metadata": {},
   "outputs": [
    {
     "data": {
      "text/plain": [
       "['base_train_sum.csv',\n",
       " 'knowledge_train_sum.csv',\n",
       " 'money_report_train_sum.csv',\n",
       " 'year_report_train_sum.csv']"
      ]
     },
     "execution_count": 3,
     "metadata": {},
     "output_type": "execute_result"
    }
   ],
   "source": [
    "train_files"
   ]
  },
  {
   "cell_type": "code",
   "execution_count": 4,
   "metadata": {},
   "outputs": [],
   "source": [
    "base_train = pd.read_csv(os.path.join(rootDir,train_files[0]),encoding='gbk',dtype=object)\n",
    "knowledge_train = pd.read_csv(os.path.join(rootDir,train_files[1]),encoding='gbk',dtype=object)\n",
    "money_report_train = pd.read_csv(os.path.join(rootDir,train_files[2]),encoding='gbk',dtype=object)\n",
    "year_report_train = pd.read_csv(os.path.join(rootDir,train_files[3]),encoding='gbk',dtype=object)\n"
   ]
  },
  {
   "cell_type": "markdown",
   "metadata": {},
   "source": [
    "## 查看4个训练集的数据"
   ]
  },
  {
   "cell_type": "code",
   "execution_count": 5,
   "metadata": {},
   "outputs": [
    {
     "data": {
      "text/html": [
       "<div>\n",
       "<style scoped>\n",
       "    .dataframe tbody tr th:only-of-type {\n",
       "        vertical-align: middle;\n",
       "    }\n",
       "\n",
       "    .dataframe tbody tr th {\n",
       "        vertical-align: top;\n",
       "    }\n",
       "\n",
       "    .dataframe thead th {\n",
       "        text-align: right;\n",
       "    }\n",
       "</style>\n",
       "<table border=\"1\" class=\"dataframe\">\n",
       "  <thead>\n",
       "    <tr style=\"text-align: right;\">\n",
       "      <th></th>\n",
       "      <th>ID</th>\n",
       "      <th>注册时间</th>\n",
       "      <th>注册资本</th>\n",
       "      <th>行业</th>\n",
       "      <th>区域</th>\n",
       "      <th>企业类型</th>\n",
       "      <th>控制人类型</th>\n",
       "      <th>控制人持股比例</th>\n",
       "      <th>flag</th>\n",
       "    </tr>\n",
       "  </thead>\n",
       "  <tbody>\n",
       "    <tr>\n",
       "      <th>0</th>\n",
       "      <td>28</td>\n",
       "      <td>2007</td>\n",
       "      <td>2050</td>\n",
       "      <td>交通运输业</td>\n",
       "      <td>福建</td>\n",
       "      <td>农民专业合作社</td>\n",
       "      <td>企业法人</td>\n",
       "      <td>NaN</td>\n",
       "      <td>1</td>\n",
       "    </tr>\n",
       "    <tr>\n",
       "      <th>1</th>\n",
       "      <td>230</td>\n",
       "      <td>2008</td>\n",
       "      <td>3360</td>\n",
       "      <td>服务业</td>\n",
       "      <td>广东</td>\n",
       "      <td>农民专业合作社</td>\n",
       "      <td>企业法人</td>\n",
       "      <td>1</td>\n",
       "      <td>1</td>\n",
       "    </tr>\n",
       "    <tr>\n",
       "      <th>2</th>\n",
       "      <td>429</td>\n",
       "      <td>2005</td>\n",
       "      <td>9670</td>\n",
       "      <td>工业</td>\n",
       "      <td>江西</td>\n",
       "      <td>集体所有制企业</td>\n",
       "      <td>自然人</td>\n",
       "      <td>0.75</td>\n",
       "      <td>1</td>\n",
       "    </tr>\n",
       "    <tr>\n",
       "      <th>3</th>\n",
       "      <td>693</td>\n",
       "      <td>2011</td>\n",
       "      <td>8360</td>\n",
       "      <td>社区服务</td>\n",
       "      <td>山东</td>\n",
       "      <td>股份有限公司</td>\n",
       "      <td>企业法人</td>\n",
       "      <td>0.98</td>\n",
       "      <td>1</td>\n",
       "    </tr>\n",
       "    <tr>\n",
       "      <th>4</th>\n",
       "      <td>727</td>\n",
       "      <td>2001</td>\n",
       "      <td>8720</td>\n",
       "      <td>零售业</td>\n",
       "      <td>江西</td>\n",
       "      <td>股份有限公司</td>\n",
       "      <td>企业法人</td>\n",
       "      <td>0.54</td>\n",
       "      <td>1</td>\n",
       "    </tr>\n",
       "  </tbody>\n",
       "</table>\n",
       "</div>"
      ],
      "text/plain": [
       "    ID  注册时间  注册资本     行业  区域     企业类型 控制人类型 控制人持股比例 flag\n",
       "0   28  2007  2050  交通运输业  福建  农民专业合作社  企业法人     NaN    1\n",
       "1  230  2008  3360    服务业  广东  农民专业合作社  企业法人       1    1\n",
       "2  429  2005  9670     工业  江西  集体所有制企业   自然人    0.75    1\n",
       "3  693  2011  8360   社区服务  山东   股份有限公司  企业法人    0.98    1\n",
       "4  727  2001  8720    零售业  江西   股份有限公司  企业法人    0.54    1"
      ]
     },
     "execution_count": 5,
     "metadata": {},
     "output_type": "execute_result"
    }
   ],
   "source": [
    "base_train.head()"
   ]
  },
  {
   "cell_type": "code",
   "execution_count": 6,
   "metadata": {},
   "outputs": [
    {
     "data": {
      "text/html": [
       "<div>\n",
       "<style scoped>\n",
       "    .dataframe tbody tr th:only-of-type {\n",
       "        vertical-align: middle;\n",
       "    }\n",
       "\n",
       "    .dataframe tbody tr th {\n",
       "        vertical-align: top;\n",
       "    }\n",
       "\n",
       "    .dataframe thead th {\n",
       "        text-align: right;\n",
       "    }\n",
       "</style>\n",
       "<table border=\"1\" class=\"dataframe\">\n",
       "  <thead>\n",
       "    <tr style=\"text-align: right;\">\n",
       "      <th></th>\n",
       "      <th>ID</th>\n",
       "      <th>专利</th>\n",
       "      <th>商标</th>\n",
       "      <th>著作权</th>\n",
       "    </tr>\n",
       "  </thead>\n",
       "  <tbody>\n",
       "    <tr>\n",
       "      <th>0</th>\n",
       "      <td>28</td>\n",
       "      <td>0</td>\n",
       "      <td>1</td>\n",
       "      <td>1</td>\n",
       "    </tr>\n",
       "    <tr>\n",
       "      <th>1</th>\n",
       "      <td>230</td>\n",
       "      <td>0</td>\n",
       "      <td>0</td>\n",
       "      <td>0</td>\n",
       "    </tr>\n",
       "    <tr>\n",
       "      <th>2</th>\n",
       "      <td>429</td>\n",
       "      <td>1</td>\n",
       "      <td>0</td>\n",
       "      <td>0</td>\n",
       "    </tr>\n",
       "    <tr>\n",
       "      <th>3</th>\n",
       "      <td>693</td>\n",
       "      <td>0</td>\n",
       "      <td>0</td>\n",
       "      <td>0</td>\n",
       "    </tr>\n",
       "    <tr>\n",
       "      <th>4</th>\n",
       "      <td>727</td>\n",
       "      <td>0</td>\n",
       "      <td>0</td>\n",
       "      <td>0</td>\n",
       "    </tr>\n",
       "  </tbody>\n",
       "</table>\n",
       "</div>"
      ],
      "text/plain": [
       "    ID 专利 商标 著作权\n",
       "0   28  0  1   1\n",
       "1  230  0  0   0\n",
       "2  429  1  0   0\n",
       "3  693  0  0   0\n",
       "4  727  0  0   0"
      ]
     },
     "execution_count": 6,
     "metadata": {},
     "output_type": "execute_result"
    }
   ],
   "source": [
    "knowledge_train.head()"
   ]
  },
  {
   "cell_type": "code",
   "execution_count": 7,
   "metadata": {
    "scrolled": true
   },
   "outputs": [
    {
     "data": {
      "text/html": [
       "<div>\n",
       "<style scoped>\n",
       "    .dataframe tbody tr th:only-of-type {\n",
       "        vertical-align: middle;\n",
       "    }\n",
       "\n",
       "    .dataframe tbody tr th {\n",
       "        vertical-align: top;\n",
       "    }\n",
       "\n",
       "    .dataframe thead th {\n",
       "        text-align: right;\n",
       "    }\n",
       "</style>\n",
       "<table border=\"1\" class=\"dataframe\">\n",
       "  <thead>\n",
       "    <tr style=\"text-align: right;\">\n",
       "      <th></th>\n",
       "      <th>ID</th>\n",
       "      <th>year</th>\n",
       "      <th>债权融资额度</th>\n",
       "      <th>债权融资成本</th>\n",
       "      <th>股权融资额度</th>\n",
       "      <th>股权融资成本</th>\n",
       "      <th>内部融资和贸易融资额度</th>\n",
       "      <th>内部融资和贸易融资成本</th>\n",
       "      <th>项目融资和政策融资额度</th>\n",
       "      <th>项目融资和政策融资成本</th>\n",
       "    </tr>\n",
       "  </thead>\n",
       "  <tbody>\n",
       "    <tr>\n",
       "      <th>0</th>\n",
       "      <td>28</td>\n",
       "      <td>2015</td>\n",
       "      <td>0</td>\n",
       "      <td>0</td>\n",
       "      <td>0</td>\n",
       "      <td>0</td>\n",
       "      <td>21648</td>\n",
       "      <td>1298.88</td>\n",
       "      <td>0</td>\n",
       "      <td>0</td>\n",
       "    </tr>\n",
       "    <tr>\n",
       "      <th>1</th>\n",
       "      <td>230</td>\n",
       "      <td>2015</td>\n",
       "      <td>0</td>\n",
       "      <td>0</td>\n",
       "      <td>0</td>\n",
       "      <td>0</td>\n",
       "      <td>0</td>\n",
       "      <td>0</td>\n",
       "      <td>470.4</td>\n",
       "      <td>28.224</td>\n",
       "    </tr>\n",
       "    <tr>\n",
       "      <th>2</th>\n",
       "      <td>429</td>\n",
       "      <td>2015</td>\n",
       "      <td>19340</td>\n",
       "      <td>1547.2</td>\n",
       "      <td>0</td>\n",
       "      <td>0</td>\n",
       "      <td>0</td>\n",
       "      <td>0</td>\n",
       "      <td>0</td>\n",
       "      <td>0</td>\n",
       "    </tr>\n",
       "    <tr>\n",
       "      <th>3</th>\n",
       "      <td>693</td>\n",
       "      <td>2015</td>\n",
       "      <td>0</td>\n",
       "      <td>0</td>\n",
       "      <td>0</td>\n",
       "      <td>0</td>\n",
       "      <td>0</td>\n",
       "      <td>0</td>\n",
       "      <td>5350.4</td>\n",
       "      <td>321.024</td>\n",
       "    </tr>\n",
       "    <tr>\n",
       "      <th>4</th>\n",
       "      <td>727</td>\n",
       "      <td>2015</td>\n",
       "      <td>0</td>\n",
       "      <td>0</td>\n",
       "      <td>32229.12</td>\n",
       "      <td>1289.1648</td>\n",
       "      <td>0</td>\n",
       "      <td>0</td>\n",
       "      <td>0</td>\n",
       "      <td>0</td>\n",
       "    </tr>\n",
       "  </tbody>\n",
       "</table>\n",
       "</div>"
      ],
      "text/plain": [
       "    ID  year 债权融资额度  债权融资成本    股权融资额度     股权融资成本 内部融资和贸易融资额度 内部融资和贸易融资成本  \\\n",
       "0   28  2015      0       0         0          0       21648     1298.88   \n",
       "1  230  2015      0       0         0          0           0           0   \n",
       "2  429  2015  19340  1547.2         0          0           0           0   \n",
       "3  693  2015      0       0         0          0           0           0   \n",
       "4  727  2015      0       0  32229.12  1289.1648           0           0   \n",
       "\n",
       "  项目融资和政策融资额度 项目融资和政策融资成本  \n",
       "0           0           0  \n",
       "1       470.4      28.224  \n",
       "2           0           0  \n",
       "3      5350.4     321.024  \n",
       "4           0           0  "
      ]
     },
     "execution_count": 7,
     "metadata": {},
     "output_type": "execute_result"
    }
   ],
   "source": [
    "money_report_train.head()"
   ]
  },
  {
   "cell_type": "code",
   "execution_count": 8,
   "metadata": {},
   "outputs": [
    {
     "data": {
      "text/html": [
       "<div>\n",
       "<style scoped>\n",
       "    .dataframe tbody tr th:only-of-type {\n",
       "        vertical-align: middle;\n",
       "    }\n",
       "\n",
       "    .dataframe tbody tr th {\n",
       "        vertical-align: top;\n",
       "    }\n",
       "\n",
       "    .dataframe thead th {\n",
       "        text-align: right;\n",
       "    }\n",
       "</style>\n",
       "<table border=\"1\" class=\"dataframe\">\n",
       "  <thead>\n",
       "    <tr style=\"text-align: right;\">\n",
       "      <th></th>\n",
       "      <th>ID</th>\n",
       "      <th>year</th>\n",
       "      <th>从业人数</th>\n",
       "      <th>资产总额</th>\n",
       "      <th>负债总额</th>\n",
       "      <th>营业总收入</th>\n",
       "      <th>主营业务收入</th>\n",
       "      <th>利润总额</th>\n",
       "      <th>净利润</th>\n",
       "      <th>纳税总额</th>\n",
       "      <th>所有者权益合计</th>\n",
       "    </tr>\n",
       "  </thead>\n",
       "  <tbody>\n",
       "    <tr>\n",
       "      <th>0</th>\n",
       "      <td>28</td>\n",
       "      <td>2015</td>\n",
       "      <td>794</td>\n",
       "      <td>16400</td>\n",
       "      <td>28700</td>\n",
       "      <td>72160</td>\n",
       "      <td>28864</td>\n",
       "      <td>7216</td>\n",
       "      <td>-7216</td>\n",
       "      <td>0</td>\n",
       "      <td>-12300</td>\n",
       "    </tr>\n",
       "    <tr>\n",
       "      <th>1</th>\n",
       "      <td>230</td>\n",
       "      <td>2015</td>\n",
       "      <td>485</td>\n",
       "      <td>23520</td>\n",
       "      <td>10080</td>\n",
       "      <td>115248</td>\n",
       "      <td>57624</td>\n",
       "      <td>57624</td>\n",
       "      <td>-11524.8</td>\n",
       "      <td>0</td>\n",
       "      <td>13440</td>\n",
       "    </tr>\n",
       "    <tr>\n",
       "      <th>2</th>\n",
       "      <td>429</td>\n",
       "      <td>2015</td>\n",
       "      <td>136</td>\n",
       "      <td>193400</td>\n",
       "      <td>183730</td>\n",
       "      <td>502840</td>\n",
       "      <td>351988</td>\n",
       "      <td>NaN</td>\n",
       "      <td>-50284</td>\n",
       "      <td>0</td>\n",
       "      <td>9670</td>\n",
       "    </tr>\n",
       "    <tr>\n",
       "      <th>3</th>\n",
       "      <td>693</td>\n",
       "      <td>2015</td>\n",
       "      <td>534</td>\n",
       "      <td>133760</td>\n",
       "      <td>125400</td>\n",
       "      <td>655424</td>\n",
       "      <td>262169.6</td>\n",
       "      <td>196627.2</td>\n",
       "      <td>-65542.4</td>\n",
       "      <td>0</td>\n",
       "      <td>8360</td>\n",
       "    </tr>\n",
       "    <tr>\n",
       "      <th>4</th>\n",
       "      <td>727</td>\n",
       "      <td>2015</td>\n",
       "      <td>375</td>\n",
       "      <td>366240</td>\n",
       "      <td>536280</td>\n",
       "      <td>402864</td>\n",
       "      <td>282004.8</td>\n",
       "      <td>161145.6</td>\n",
       "      <td>-40286.4</td>\n",
       "      <td>0</td>\n",
       "      <td>-170040</td>\n",
       "    </tr>\n",
       "  </tbody>\n",
       "</table>\n",
       "</div>"
      ],
      "text/plain": [
       "    ID  year 从业人数    资产总额    负债总额   营业总收入    主营业务收入      利润总额       净利润 纳税总额  \\\n",
       "0   28  2015  794   16400   28700   72160     28864      7216     -7216    0   \n",
       "1  230  2015  485   23520   10080  115248     57624     57624  -11524.8    0   \n",
       "2  429  2015  136  193400  183730  502840    351988       NaN    -50284    0   \n",
       "3  693  2015  534  133760  125400  655424  262169.6  196627.2  -65542.4    0   \n",
       "4  727  2015  375  366240  536280  402864  282004.8  161145.6  -40286.4    0   \n",
       "\n",
       "   所有者权益合计  \n",
       "0   -12300  \n",
       "1    13440  \n",
       "2     9670  \n",
       "3     8360  \n",
       "4  -170040  "
      ]
     },
     "execution_count": 8,
     "metadata": {},
     "output_type": "execute_result"
    }
   ],
   "source": [
    "year_report_train.head()"
   ]
  },
  {
   "cell_type": "markdown",
   "metadata": {},
   "source": [
    "## 观察离散类数据不同值的个数"
   ]
  },
  {
   "cell_type": "code",
   "execution_count": 9,
   "metadata": {},
   "outputs": [
    {
     "name": "stdout",
     "output_type": "stream",
     "text": [
      "注册时间:\n",
      "2008    1059\n",
      "2001    1054\n",
      "2002    1029\n",
      "2007    1027\n",
      "2005    1007\n",
      "2003    1004\n",
      "2000    1004\n",
      "2006     974\n",
      "2004     972\n",
      "2013     971\n",
      "2009     964\n",
      "2010     964\n",
      "2011     952\n",
      "2014     952\n",
      "2012     946\n",
      "Name: 注册时间, dtype: int64\n",
      "\n",
      "\n",
      "行业:\n",
      "商业服务业    2550\n",
      "社区服务     2493\n",
      "服务业      2477\n",
      "交通运输业    2475\n",
      "工业       2457\n",
      "零售业      2455\n",
      "Name: 行业, dtype: int64\n",
      "\n",
      "\n",
      "区域:\n",
      "广西    2203\n",
      "江西    2186\n",
      "福建    2160\n",
      "湖北    2117\n",
      "山东    2109\n",
      "广东    2072\n",
      "湖南    2063\n",
      "Name: 区域, dtype: int64\n",
      "\n",
      "\n",
      "企业类型:\n",
      "农民专业合作社    3043\n",
      "有限责任公司     3022\n",
      "股份有限公司     2985\n",
      "集体所有制企业    2957\n",
      "合伙企业       2898\n",
      "Name: 企业类型, dtype: int64\n",
      "\n",
      "\n",
      "控制人类型:\n",
      "自然人     7541\n",
      "企业法人    7342\n",
      "Name: 控制人类型, dtype: int64\n",
      "\n",
      "\n",
      "控制人持股比例:\n",
      "0.73    351\n",
      "0.54    331\n",
      "0.8     328\n",
      "0.98    323\n",
      "0.81    323\n",
      "0.93    321\n",
      "0.85    318\n",
      "0.57    318\n",
      "0.62    315\n",
      "0.91    315\n",
      "0.83    314\n",
      "0.52    312\n",
      "0.75    311\n",
      "0.72    310\n",
      "0.63    308\n",
      "0.53    306\n",
      "0.84    304\n",
      "0.92    304\n",
      "0.82    304\n",
      "0.87    303\n",
      "0.68    301\n",
      "0.59    299\n",
      "0.94    298\n",
      "1       298\n",
      "0.76    298\n",
      "0.56    297\n",
      "0.67    295\n",
      "0.66    295\n",
      "0.86    294\n",
      "0.89    294\n",
      "0.97    293\n",
      "0.9     293\n",
      "0.74    290\n",
      "0.77    290\n",
      "0.58    290\n",
      "0.88    288\n",
      "0.95    286\n",
      "0.7     286\n",
      "0.55    285\n",
      "0.61    284\n",
      "0.71    283\n",
      "0.79    282\n",
      "0.78    281\n",
      "0.6     280\n",
      "0.69    277\n",
      "0.96    275\n",
      "0.65    272\n",
      "0.99    270\n",
      "0.51    267\n",
      "0.64    251\n",
      "Name: 控制人持股比例, dtype: int64\n",
      "\n",
      "\n",
      "flag:\n",
      "1    5073\n",
      "Name: flag, dtype: int64\n",
      "\n",
      "\n"
     ]
    }
   ],
   "source": [
    "for index in base_train.columns:\n",
    "    if index != 'ID' and index != '注册资本':\n",
    "        print(index+':')\n",
    "        print (base_train[index].value_counts())\n",
    "        print ('\\n')"
   ]
  },
  {
   "cell_type": "code",
   "execution_count": 10,
   "metadata": {},
   "outputs": [
    {
     "name": "stdout",
     "output_type": "stream",
     "text": [
      "专利:\n",
      "0    9707\n",
      "1    5192\n",
      "Name: 专利, dtype: int64\n",
      "\n",
      "\n",
      "商标:\n",
      "0    9581\n",
      "1    5314\n",
      "Name: 商标, dtype: int64\n",
      "\n",
      "\n",
      "著作权:\n",
      "0    9432\n",
      "1    5479\n",
      "Name: 著作权, dtype: int64\n",
      "\n",
      "\n"
     ]
    }
   ],
   "source": [
    "for index in knowledge_train.columns:\n",
    "    if index != 'ID':\n",
    "        print(index+':')\n",
    "        print (knowledge_train[index].value_counts())\n",
    "        print ('\\n')"
   ]
  },
  {
   "cell_type": "markdown",
   "metadata": {},
   "source": [
    "## 查看训练集每列缺失值个数"
   ]
  },
  {
   "cell_type": "code",
   "execution_count": 11,
   "metadata": {},
   "outputs": [
    {
     "data": {
      "text/plain": [
       "ID            0\n",
       "注册时间        171\n",
       "注册资本        141\n",
       "行业          143\n",
       "区域          140\n",
       "企业类型        145\n",
       "控制人类型       167\n",
       "控制人持股比例     139\n",
       "flag       9977\n",
       "dtype: int64"
      ]
     },
     "execution_count": 11,
     "metadata": {},
     "output_type": "execute_result"
    }
   ],
   "source": [
    "base_train.isnull().sum()"
   ]
  },
  {
   "cell_type": "code",
   "execution_count": 12,
   "metadata": {},
   "outputs": [
    {
     "data": {
      "text/plain": [
       "ID       0\n",
       "专利     151\n",
       "商标     155\n",
       "著作权    139\n",
       "dtype: int64"
      ]
     },
     "execution_count": 12,
     "metadata": {},
     "output_type": "execute_result"
    }
   ],
   "source": [
    "knowledge_train.isnull().sum()"
   ]
  },
  {
   "cell_type": "code",
   "execution_count": 13,
   "metadata": {},
   "outputs": [
    {
     "data": {
      "text/plain": [
       "ID               0\n",
       "year           432\n",
       "债权融资额度         447\n",
       "债权融资成本         422\n",
       "股权融资额度         427\n",
       "股权融资成本         445\n",
       "内部融资和贸易融资额度    456\n",
       "内部融资和贸易融资成本    490\n",
       "项目融资和政策融资额度    443\n",
       "项目融资和政策融资成本    478\n",
       "dtype: int64"
      ]
     },
     "execution_count": 13,
     "metadata": {},
     "output_type": "execute_result"
    }
   ],
   "source": [
    "money_report_train.isnull().sum()"
   ]
  },
  {
   "cell_type": "code",
   "execution_count": 14,
   "metadata": {},
   "outputs": [
    {
     "data": {
      "text/plain": [
       "ID           0\n",
       "year       451\n",
       "从业人数       428\n",
       "资产总额       463\n",
       "负债总额       445\n",
       "营业总收入      487\n",
       "主营业务收入     451\n",
       "利润总额       429\n",
       "净利润        484\n",
       "纳税总额       417\n",
       "所有者权益合计    429\n",
       "dtype: int64"
      ]
     },
     "execution_count": 14,
     "metadata": {},
     "output_type": "execute_result"
    }
   ],
   "source": [
    "year_report_train.isnull().sum()"
   ]
  },
  {
   "cell_type": "markdown",
   "metadata": {},
   "source": [
    "## 对knowledge_train_sum.csv中的专利、商标和著作权绘制直方图"
   ]
  },
  {
   "cell_type": "code",
   "execution_count": 68,
   "metadata": {},
   "outputs": [],
   "source": [
    "def drawBarplot(x,y,xlabel,ylabel,title):\n",
    "#     定义画直方图函数\n",
    "    sns.barplot(x,y)\n",
    "    plt.title(title)\n",
    "    plt.xlabel(xlabel)\n",
    "    plt.ylabel(ylabel)\n",
    "    for a,b in zip(x,y):\n",
    "        plt.text(a,b,\"%d\"%b)"
   ]
  },
  {
   "cell_type": "code",
   "execution_count": 77,
   "metadata": {},
   "outputs": [
    {
     "data": {
      "image/png": "[encoded data removed]",
      "text/plain": [
       "<Figure size 1080x720 with 4 Axes>"
      ]
     },
     "metadata": {
      "needs_background": "light"
     },
     "output_type": "display_data"
    }
   ],
   "source": [
    "def drawBarplot_knowledge_train():\n",
    "#     对knowledge_train_sum.csv绘制直方图\n",
    "    sub = 0\n",
    "    xlabels = [\"Patent\",\"Brand\",\"Copyright\"]\n",
    "    ylabels = [\"Number\"]*3\n",
    "    titles = [\"Number of companies with patents\",\"Number of companies with brands\",\"Number of companies holding Copyrights\"]\n",
    "    plt.figure(figsize=(15,10))\n",
    "    plt.subplots_adjust(wspace=0.2,hspace=0.3)\n",
    "    for column in knowledge_train.columns:\n",
    "        if column != 'ID':\n",
    "            x = [0,1]\n",
    "            y = [knowledge_train[(knowledge_train[column] == '0')].shape[0],knowledge_train[(knowledge_train[column] == '1')].shape[0]]\n",
    "            plt.subplot(2,2,sub+1)\n",
    "            drawBarplot(x,y,xlabels[sub],ylabels[sub],titles[sub])\n",
    "            sub += 1\n",
    "    plt.subplot(2,2,4)\n",
    "    x = [0,1]\n",
    "    y = [knowledge_train[(knowledge_train['专利'] == '0') | (knowledge_train['商标'] == '0') | (knowledge_train['著作权'] == '0')].shape[0],\n",
    "        knowledge_train[(knowledge_train['专利'] == '1') & (knowledge_train['商标'] == '1') & (knowledge_train['著作权'] == '1')].shape[0]]\n",
    "    drawBarplot(x,y,\"All three\",\"Number\",\"Number of companies holding all three\")\n",
    "    \n",
    "drawBarplot_knowledge_train()"
   ]
  },
  {
   "cell_type": "code",
   "execution_count": 44,
   "metadata": {},
   "outputs": [
    {
     "data": {
      "text/plain": [
       "[1236, 13729]"
      ]
     },
     "execution_count": 44,
     "metadata": {},
     "output_type": "execute_result"
    }
   ],
   "source": []
  },
  {
   "cell_type": "code",
   "execution_count": null,
   "metadata": {},
   "outputs": [],
   "source": []
  }
 ],
 "metadata": {
  "kernelspec": {
   "display_name": "Python 3",
   "language": "python",
   "name": "python3"
  },
  "language_info": {
   "codemirror_mode": {
    "name": "ipython",
    "version": 3
   },
   "file_extension": ".py",
   "mimetype": "text/x-python",
   "name": "python",
   "nbconvert_exporter": "python",
   "pygments_lexer": "ipython3",
   "version": "3.6.8"
  },
  "toc": {
   "base_numbering": 1,
   "nav_menu": {},
   "number_sections": true,
   "sideBar": true,
   "skip_h1_title": false,
   "title_cell": "Table of Contents",
   "title_sidebar": "Contents",
   "toc_cell": false,
   "toc_position": {},
   "toc_section_display": true,
   "toc_window_display": false
  }
 },
 "nbformat": 4,
 "nbformat_minor": 2
}
